{
 "cells": [
  {
   "cell_type": "code",
   "execution_count": 1,
   "metadata": {
    "collapsed": true
   },
   "outputs": [],
   "source": [
    "import os\n",
    "import pandas as pd\n",
    "import math\n",
    "import pickle"
   ]
  },
  {
   "cell_type": "code",
   "execution_count": 2,
   "metadata": {
    "scrolled": true
   },
   "outputs": [
    {
     "name": "stderr",
     "output_type": "stream",
     "text": [
      "C:\\Users\\why\\Anaconda3\\lib\\site-packages\\h5py\\__init__.py:34: FutureWarning: Conversion of the second argument of issubdtype from `float` to `np.floating` is deprecated. In future, it will be treated as `np.float64 == np.dtype(float).type`.\n",
      "  from ._conv import register_converters as _register_converters\n",
      "Using Theano backend.\n",
      "WARNING (theano.configdefaults): g++ not available, if using conda: `conda install m2w64-toolchain`\n",
      "C:\\Users\\why\\Anaconda3\\lib\\site-packages\\theano\\configdefaults.py:560: UserWarning: DeprecationWarning: there is no c++ compiler.This is deprecated and with Theano 0.11 a c++ compiler will be mandatory\n",
      "  warnings.warn(\"DeprecationWarning: there is no c++ compiler.\"\n",
      "WARNING (theano.configdefaults): g++ not detected ! Theano will be unable to execute optimized C-implementations (for both CPU and GPU) and will default to Python implementations. Performance will be severely degraded. To remove this warning, set Theano flags cxx to an empty string.\n",
      "WARNING (theano.tensor.blas): Using NumPy C-API based implementation for BLAS functions.\n"
     ]
    }
   ],
   "source": [
    "from __future__ import unicode_literals\n",
    "from __future__ import division\n",
    "import copy\n",
    "import gc\n",
    "import numpy as np\n",
    "import pdb as check\n",
    "import random\n",
    "# import modelfunctions\n",
    "from keras.callbacks import ModelCheckpoint\n",
    "import matplotlib.pyplot as plt\n",
    "from sklearn.preprocessing import StandardScaler\n",
    "from sklearn.model_selection import GridSearchCV, train_test_split\n",
    "from sklearn.svm import SVC"
   ]
  },
  {
   "cell_type": "code",
   "execution_count": 3,
   "metadata": {
    "collapsed": true,
    "scrolled": true
   },
   "outputs": [],
   "source": [
    "def svm_c(x_train, x_test, y_train, y_test):\n",
    "    clf = SVC(C=0.001, kernel='rbf', probability = True, class_weight='balanced')    # \n",
    "#     clf = SVC(C=0.005, kernel='rbf', probability = True, class_weight='balanced')    # 0.9451\n",
    "#     clf = SVC(C=0.01, kernel='rbf', probability = True, class_weight='balanced')    # 0.9451\n",
    "#     clf = SVC(C=0.05, kernel='rbf', probability = True, class_weight='balanced')    # 0.9444\n",
    "#     clf = SVC(C=0.1, kernel='rbf', probability = True, class_weight='balanced')     # 0.9423\n",
    "#     clf = SVC(C=0.5, kernel='rbf', probability = True, class_weight='balanced')       # 0.9337\n",
    "#     clf = SVC(C=1.0, kernel='rbf', probability = True, class_weight='balanced')     # 0.9318\n",
    "    clf.fit(x_train, y_train)\n",
    "    predict = clf.predict_proba(x_test)\n",
    "    return predict, clf\n",
    "    "
   ]
  },
  {
   "cell_type": "code",
   "execution_count": 4,
   "metadata": {
    "collapsed": true
   },
   "outputs": [],
   "source": [
    "file_path = './Data/days_after_mainshock_360/'"
   ]
  },
  {
   "cell_type": "code",
   "execution_count": 5,
   "metadata": {
    "collapsed": true
   },
   "outputs": [],
   "source": [
    "feat_columns = ['aftershock_mag', 'sxx', 'syy', 'szz', 'syz', 'sxz', 'sxy', 'coulomb', 'maxshear', 'von']"
   ]
  },
  {
   "cell_type": "code",
   "execution_count": 6,
   "metadata": {
    "collapsed": true
   },
   "outputs": [],
   "source": [
    "add_self, add_sqrt, add_abs, add_physic, add_log = False, False, True, True, True"
   ]
  },
  {
   "cell_type": "code",
   "execution_count": 7,
   "metadata": {
    "scrolled": true
   },
   "outputs": [
    {
     "name": "stdout",
     "output_type": "stream",
     "text": [
      "175\n"
     ]
    }
   ],
   "source": [
    "def get_filename(filepath = file_path):\n",
    "    file_list = []\n",
    "    for filename in os.listdir(filepath):\n",
    "        file_list.append(filename)\n",
    "    return file_list\n",
    "file_list = get_filename()\n",
    "print(len(file_list))"
   ]
  },
  {
   "cell_type": "code",
   "execution_count": 8,
   "metadata": {
    "collapsed": true
   },
   "outputs": [],
   "source": [
    "mag_range = [3.0, 5.0, 5.5, 6.0, 8.0]\n",
    "dis_range = [0, 20, 40, 60, 100000]"
   ]
  },
  {
   "cell_type": "code",
   "execution_count": 9,
   "metadata": {
    "collapsed": true
   },
   "outputs": [],
   "source": [
    "def get_sample(file_list, col_list, filepath=file_path, add_self=add_self, add_sqrt=add_sqrt, add_abs=add_abs, add_physic=add_physic,add_log=add_log):\n",
    "    new_col = ['aftershock_mag']\n",
    "    if add_self:\n",
    "        for col in col_list[1::]:\n",
    "            new_col.append(col)\n",
    "    if add_abs:\n",
    "        for col in col_list[1::]:\n",
    "            if col in ['sxx', 'syy', 'szz', 'syz', 'sxz', 'sxy']:\n",
    "                new_col.append(\"abs_\"+col)\n",
    "    if add_sqrt:\n",
    "        for col in col_list[1::]:\n",
    "            if col in ['sxx', 'syy', 'szz', 'syz', 'sxz', 'sxy']:\n",
    "                new_col.append(\"sqrt_\"+col)\n",
    "    if add_physic:\n",
    "        for col in col_list[1::]:\n",
    "            if col in ['coulomb', 'maxshear', 'von']:\n",
    "                new_col.append('abs_'+col)\n",
    "    if add_log:\n",
    "        for col in col_list[1::]:\n",
    "            if col in ['sxx', 'syy', 'szz', 'syz', 'sxz', 'sxy']:\n",
    "                new_col.append(\"log_\"+col)            \n",
    "    raw_data = None  \n",
    "    for file in file_list:\n",
    "        main_Mag = float(file.strip('.csv').split('-')[1][1::])\n",
    "        df = pd.read_csv(filepath+file, header=0)\n",
    "        axis = np.where(np.isnan(df))\n",
    "        if len(axis[0]) != 0:\n",
    "            print(\"%s is wrong\" % file)\n",
    "            continue\n",
    "        unique = df['aftershock_mag'].unique()\n",
    "        if(len(unique)==1):\n",
    "            continue\n",
    "        \n",
    "        index = len(df.columns)\n",
    "        columns = df.columns.copy()\n",
    "        for col in columns:\n",
    "            df.insert(index, '-'+col, -df[col])\n",
    "            df.insert(index+1, 'abs_'+col, abs(df[col]))\n",
    "            df.insert(index+2, '-abs_'+col, -abs(df[col]))\n",
    "            col_sqrt = df[col].apply(lambda x: math.sqrt(abs(x)))\n",
    "            df.insert(index+3, 'sqrt_'+col, col_sqrt)\n",
    "            df.insert(index+4, '-sqrt_'+col, -col_sqrt)\n",
    "            col_log = df[col].apply(lambda x: np.log(abs(x)+1))\n",
    "            df.insert(index+5, 'log_'+col, col_log)\n",
    "            df.insert(index+6, '-log_'+col, -col_log)\n",
    "            \n",
    "        for idx in range(len(mag_range) - 1):\n",
    "            if main_Mag >= mag_range[idx] and main_Mag < mag_range[idx+1]:\n",
    "                break\n",
    "        mainMag_oneHot = [[0]*(len(mag_range)-1)]\n",
    "        mainMag_oneHot[0][idx] = 1\n",
    "        mainMag_oneHot = mainMag_oneHot * len(df)\n",
    "        index = len(df.columns)\n",
    "        mainMag_oneHot = np.array(mainMag_oneHot)\n",
    "        for idx in range(len(mag_range)-1):\n",
    "            df.insert(index+idx, 'mainMag_oneHot_'+str(idx), mainMag_oneHot[:, idx])\n",
    "        \n",
    "        dis_oneHot = []\n",
    "        for x, y in zip(df['x'].values, df['y'].values):\n",
    "#             print(x, y)\n",
    "            dis = math.sqrt(x*x + y*y)\n",
    "            for idx in range(len(dis_range)-1):\n",
    "                if dis >= dis_range[idx] and dis < dis_range[idx+1]:\n",
    "                    break\n",
    "            dis_oneHot_tmp = [0]*(len(dis_range)-1)\n",
    "            dis_oneHot_tmp[idx] = 1\n",
    "            dis_oneHot.append(dis_oneHot_tmp)\n",
    "\n",
    "        index = len(df.columns)\n",
    "        dis_oneHot = np.array(dis_oneHot)\n",
    "        for idx in range(len(dis_range)-1):\n",
    "            df.insert(index+idx, 'dis_oneHot_'+str(idx), dis_oneHot[:, idx])\n",
    "        if raw_data is None:\n",
    "            raw_data = df\n",
    "        else:\n",
    "            raw_data = raw_data.append(df)\n",
    "    \n",
    "    if raw_data is None:\n",
    "        return raw_data\n",
    "    if len(raw_data) == 0:\n",
    "        return raw_data[new_col]\n",
    "\n",
    "    for idx in range(len(mag_range)-1):\n",
    "        new_col.append('mainMag_oneHot_'+str(idx))\n",
    "    for idx in range(len(dis_range)-1):\n",
    "        new_col.append('dis_oneHot_'+str(idx))\n",
    "    \n",
    "    raw_data = raw_data[new_col]\n",
    "    return raw_data"
   ]
  },
  {
   "cell_type": "code",
   "execution_count": 10,
   "metadata": {
    "scrolled": false
   },
   "outputs": [
    {
     "name": "stdout",
     "output_type": "stream",
     "text": [
      "[82, 48, 61, 69, 92, 164, 145, 7, 156, 117, 80, 144, 146, 123, 78, 6, 53, 103, 36, 95, 150, 1, 50, 81, 172, 88, 126, 51, 27, 143, 12, 45, 101, 136, 2, 132, 16, 170, 157, 115, 30, 151, 83, 90, 35, 56, 168, 58, 153, 24, 32, 79, 67, 89, 169, 65, 152, 133, 158, 137, 100, 33, 106, 4, 91, 166, 54, 140, 163, 85, 13, 139, 141, 75, 174, 44, 21, 23, 14, 110, 118, 77, 73, 28, 66, 76, 70, 148, 119, 161, 63, 20, 11, 160, 34, 98, 62, 40, 108, 64, 57, 165, 155, 52, 68, 18, 43, 125, 49, 105, 112, 128, 71, 15, 130, 93, 74, 167, 97, 96, 147, 114, 134, 86, 26, 25, 99, 19, 171, 120, 9, 47, 38, 124, 102, 87, 41, 116, 142, 31, 22, 39, 5, 159, 29, 127, 138, 84, 8, 113, 104, 111, 10, 154, 59, 37, 17, 109, 149, 94, 3, 0, 60, 135, 129, 46, 131, 121, 55, 122, 72, 162, 173, 107, 42]\n"
     ]
    }
   ],
   "source": [
    "cnt = len(file_list)\n",
    "Index = [i for i in range(cnt)]\n",
    "random.seed(21)\n",
    "random.shuffle(Index)\n",
    "print(Index)"
   ]
  },
  {
   "cell_type": "code",
   "execution_count": 11,
   "metadata": {
    "collapsed": true
   },
   "outputs": [],
   "source": [
    "from sklearn import metrics as sk_metrics"
   ]
  },
  {
   "cell_type": "code",
   "execution_count": 12,
   "metadata": {
    "scrolled": true
   },
   "outputs": [
    {
     "name": "stdout",
     "output_type": "stream",
     "text": [
      "20151207-M7.2.csv is wrong\n",
      "20011114-M7.8.csv is wrong\n",
      "5361\n"
     ]
    },
    {
     "data": {
      "image/png": "[encoded data removed]",
      "text/plain": [
       "<matplotlib.figure.Figure at 0x24feb2b7278>"
      ]
     },
     "metadata": {},
     "output_type": "display_data"
    },
    {
     "name": "stdout",
     "output_type": "stream",
     "text": [
      "20011114-M7.8.csv is wrong\n",
      "20151207-M7.2.csv is wrong\n",
      "5390\n"
     ]
    },
    {
     "data": {
      "image/png": "[encoded data removed]",
      "text/plain": [
       "<matplotlib.figure.Figure at 0x24f83256f60>"
      ]
     },
     "metadata": {},
     "output_type": "display_data"
    },
    {
     "name": "stdout",
     "output_type": "stream",
     "text": [
      "20011114-M7.8.csv is wrong\n",
      "20151207-M7.2.csv is wrong\n",
      "4923\n"
     ]
    },
    {
     "data": {
      "image/png": "[encoded data removed]",
      "text/plain": [
       "<matplotlib.figure.Figure at 0x24ff55d0f28>"
      ]
     },
     "metadata": {},
     "output_type": "display_data"
    },
    {
     "name": "stdout",
     "output_type": "stream",
     "text": [
      "20011114-M7.8.csv is wrong\n",
      "20151207-M7.2.csv is wrong\n",
      "4476\n"
     ]
    },
    {
     "data": {
      "image/png": "[encoded data removed]",
      "text/plain": [
       "<matplotlib.figure.Figure at 0x24feb2b7e48>"
      ]
     },
     "metadata": {},
     "output_type": "display_data"
    },
    {
     "name": "stdout",
     "output_type": "stream",
     "text": [
      "20011114-M7.8.csv is wrong\n",
      "20151207-M7.2.csv is wrong\n",
      "5074\n"
     ]
    },
    {
     "data": {
      "image/png": "[encoded data removed]",
      "text/plain": [
       "<matplotlib.figure.Figure at 0x24f8224f8d0>"
      ]
     },
     "metadata": {},
     "output_type": "display_data"
    }
   ],
   "source": [
    "def main():\n",
    "    fold_cnt = 5\n",
    "    AUC_list = []\n",
    "    Test_label_list,Test_predictProb_list = [], []\n",
    "    for fold in range(fold_cnt):\n",
    "        AUC = []\n",
    "        columns=feat_columns\n",
    "        group_cnt = len(file_list) // fold_cnt\n",
    "        eval_Index = Index[fold*group_cnt:(fold+1)*group_cnt]\n",
    "        train_Index = [idx for idx in Index if idx not in eval_Index]\n",
    "\n",
    "        train_file = [file_list[idx] for idx in train_Index]\n",
    "        eval_file = [file_list[idx] for idx in eval_Index]\n",
    "\n",
    "        train_data = get_sample(train_file, columns)\n",
    "        eval_data = get_sample(eval_file, columns)\n",
    "\n",
    "        train_data_pos=train_data[train_data['aftershock_mag']>0]\n",
    "        train_data_neg=train_data[train_data['aftershock_mag']==0]\n",
    "\n",
    "\n",
    "        train_data_pos = train_data_pos.values\n",
    "        train_data_neg = train_data_neg.values\n",
    "\n",
    "        np.random.seed(1234)\n",
    "        np.random.shuffle(train_data_neg)\n",
    "\n",
    "        cnt = np.shape(train_data_pos)[0]\n",
    "        print(cnt)\n",
    "\n",
    "        train_data_neg=train_data_neg[0:cnt, :]\n",
    "        train_data = np.concatenate((train_data_neg, train_data_pos), axis=0)\n",
    "        np.random.shuffle(train_data)\n",
    "\n",
    "        eval_data = eval_data.values\n",
    "\n",
    "\n",
    "        x_train = train_data[0:cnt, 1::]\n",
    "        y_train = train_data[0:cnt, 0]\n",
    "        y_train = (y_train>0).astype(int)\n",
    "\n",
    "        x_test = eval_data[:, 1::]\n",
    "        y_test = eval_data[:, 0]\n",
    "        y_test = (y_test>0).astype(int)\n",
    "\n",
    "        mean = np.mean(x_train, axis = 0)\n",
    "        std = np.std(x_train, axis = 0)\n",
    "\n",
    "        x_train_std = (x_train - mean) / std\n",
    "        x_test_std = (x_test - mean) / std\n",
    "\n",
    "        predict, clf = svm_c(x_train_std, x_test_std, y_train, y_test) \n",
    "        # print(predict)\n",
    "        predict = predict[:,1]\n",
    "\n",
    "        # draw the ROC \n",
    "        fpr, tpr, threshold = sk_metrics.roc_curve(y_test, predict)\n",
    "        roc_auc = sk_metrics.roc_auc_score(y_test, predict)\n",
    "        plt.plot(fpr, tpr,lw=0.5, label=('AUC = %0.4f ' %  roc_auc))\n",
    "        plt.legend(loc = 'lower right')\n",
    "        plt.ylabel('True Positive Rate')\n",
    "        plt.xlabel('False Positive Rate')\n",
    "\n",
    "        AUC.append(roc_auc)\n",
    "        Test_label_list.append(y_test)\n",
    "        Test_predictProb_list.append(predict)\n",
    "            \n",
    "        plt.show()\n",
    "        \n",
    "        AUC_list.append(AUC)\n",
    "    return  Test_label_list,Test_predictProb_list, np.array(AUC_list)\n",
    "Test_label_list,Test_predictProb_list, AUC_array = main()"
   ]
  },
  {
   "cell_type": "code",
   "execution_count": 13,
   "metadata": {
    "scrolled": false
   },
   "outputs": [
    {
     "name": "stdout",
     "output_type": "stream",
     "text": [
      "0.9402177032829989\n"
     ]
    }
   ],
   "source": [
    "print(np.mean(AUC_array))"
   ]
  }
 ],
 "metadata": {
  "kernelspec": {
   "display_name": "Python 3",
   "language": "python",
   "name": "python3"
  },
  "language_info": {
   "codemirror_mode": {
    "name": "ipython",
    "version": 3
   },
   "file_extension": ".py",
   "mimetype": "text/x-python",
   "name": "python",
   "nbconvert_exporter": "python",
   "pygments_lexer": "ipython3",
   "version": "3.6.3"
  }
 },
 "nbformat": 4,
 "nbformat_minor": 2
}
